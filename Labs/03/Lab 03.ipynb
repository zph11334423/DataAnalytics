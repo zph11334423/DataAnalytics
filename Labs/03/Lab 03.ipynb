{
 "cells": [
  {
   "cell_type": "code",
   "execution_count": 84,
   "id": "bd1b36aa",
   "metadata": {},
   "outputs": [],
   "source": [
    "# Alex Zhang 512910"
   ]
  },
  {
   "cell_type": "code",
   "execution_count": 42,
   "id": "93636bdd",
   "metadata": {},
   "outputs": [],
   "source": [
    "import numpy as np"
   ]
  },
  {
   "cell_type": "code",
   "execution_count": 43,
   "id": "72cd92b5",
   "metadata": {},
   "outputs": [
    {
     "name": "stdout",
     "output_type": "stream",
     "text": [
      "[[ 1  3  5]\n",
      " [ 4 12  8]]\n",
      "[[ 1  5  9]\n",
      " [ 3  4 15]]\n"
     ]
    }
   ],
   "source": [
    "m1 = np.array([(1,3,5), (4,12,8)])\n",
    "m2 = np.array([(1,5,9), (3,4,15)])\n",
    "print(m1)\n",
    "print(m2)"
   ]
  },
  {
   "cell_type": "code",
   "execution_count": 44,
   "id": "e3c33e5a",
   "metadata": {},
   "outputs": [
    {
     "data": {
      "text/plain": [
       "array([[ 2,  8, 14],\n",
       "       [ 7, 16, 23]])"
      ]
     },
     "execution_count": 44,
     "metadata": {},
     "output_type": "execute_result"
    }
   ],
   "source": [
    "m1 + m2"
   ]
  },
  {
   "cell_type": "code",
   "execution_count": 45,
   "id": "30c3cd6d",
   "metadata": {},
   "outputs": [
    {
     "data": {
      "text/plain": [
       "array([[ 0, -2, -4],\n",
       "       [ 1,  8, -7]])"
      ]
     },
     "execution_count": 45,
     "metadata": {},
     "output_type": "execute_result"
    }
   ],
   "source": [
    "m1 - m2"
   ]
  },
  {
   "cell_type": "code",
   "execution_count": 46,
   "id": "babb04c8",
   "metadata": {},
   "outputs": [
    {
     "data": {
      "text/plain": [
       "array([[ 61,  90],\n",
       "       [136, 180]])"
      ]
     },
     "execution_count": 46,
     "metadata": {},
     "output_type": "execute_result"
    }
   ],
   "source": [
    "m2t = np.transpose(m2)\n",
    "np.matmul(m1,m2t)"
   ]
  },
  {
   "cell_type": "code",
   "execution_count": 47,
   "id": "bb23ae3d",
   "metadata": {},
   "outputs": [
    {
     "data": {
      "text/plain": [
       "array([[ 61, 136],\n",
       "       [ 90, 180]])"
      ]
     },
     "execution_count": 47,
     "metadata": {},
     "output_type": "execute_result"
    }
   ],
   "source": [
    "m1t = np.transpose(m1)\n",
    "np.matmul(m2,m1t)"
   ]
  },
  {
   "cell_type": "code",
   "execution_count": 48,
   "id": "c417a87d",
   "metadata": {},
   "outputs": [],
   "source": [
    "#The resultant matrices are different because the result of matrix multplication are generally not communicative."
   ]
  },
  {
   "cell_type": "code",
   "execution_count": 49,
   "id": "ffc0d926",
   "metadata": {},
   "outputs": [
    {
     "data": {
      "text/plain": [
       "array([[ 1,  3,  5],\n",
       "       [ 4, 12,  8],\n",
       "       [ 2,  6,  7]])"
      ]
     },
     "execution_count": 49,
     "metadata": {},
     "output_type": "execute_result"
    }
   ],
   "source": [
    "v1 = np.array([(2,6,7)])\n",
    "m3 = np.append(m1, v1, axis = 0)\n",
    "m3\n"
   ]
  },
  {
   "cell_type": "code",
   "execution_count": 50,
   "id": "5e9882a7",
   "metadata": {},
   "outputs": [
    {
     "ename": "LinAlgError",
     "evalue": "Singular matrix",
     "output_type": "error",
     "traceback": [
      "\u001b[1;31m---------------------------------------------------------------------------\u001b[0m",
      "\u001b[1;31mLinAlgError\u001b[0m                               Traceback (most recent call last)",
      "Cell \u001b[1;32mIn[50], line 2\u001b[0m\n\u001b[0;32m      1\u001b[0m \u001b[38;5;28;01mfrom\u001b[39;00m \u001b[38;5;21;01mnumpy\u001b[39;00m\u001b[38;5;21;01m.\u001b[39;00m\u001b[38;5;21;01mlinalg\u001b[39;00m \u001b[38;5;28;01mimport\u001b[39;00m inv\n\u001b[1;32m----> 2\u001b[0m m3i \u001b[38;5;241m=\u001b[39m inv(m3)\n",
      "File \u001b[1;32m<__array_function__ internals>:200\u001b[0m, in \u001b[0;36minv\u001b[1;34m(*args, **kwargs)\u001b[0m\n",
      "File \u001b[1;32m~\\anaconda3\\Lib\\site-packages\\numpy\\linalg\\linalg.py:538\u001b[0m, in \u001b[0;36minv\u001b[1;34m(a)\u001b[0m\n\u001b[0;32m    536\u001b[0m signature \u001b[38;5;241m=\u001b[39m \u001b[38;5;124m'\u001b[39m\u001b[38;5;124mD->D\u001b[39m\u001b[38;5;124m'\u001b[39m \u001b[38;5;28;01mif\u001b[39;00m isComplexType(t) \u001b[38;5;28;01melse\u001b[39;00m \u001b[38;5;124m'\u001b[39m\u001b[38;5;124md->d\u001b[39m\u001b[38;5;124m'\u001b[39m\n\u001b[0;32m    537\u001b[0m extobj \u001b[38;5;241m=\u001b[39m get_linalg_error_extobj(_raise_linalgerror_singular)\n\u001b[1;32m--> 538\u001b[0m ainv \u001b[38;5;241m=\u001b[39m _umath_linalg\u001b[38;5;241m.\u001b[39minv(a, signature\u001b[38;5;241m=\u001b[39msignature, extobj\u001b[38;5;241m=\u001b[39mextobj)\n\u001b[0;32m    539\u001b[0m \u001b[38;5;28;01mreturn\u001b[39;00m wrap(ainv\u001b[38;5;241m.\u001b[39mastype(result_t, copy\u001b[38;5;241m=\u001b[39m\u001b[38;5;28;01mFalse\u001b[39;00m))\n",
      "File \u001b[1;32m~\\anaconda3\\Lib\\site-packages\\numpy\\linalg\\linalg.py:89\u001b[0m, in \u001b[0;36m_raise_linalgerror_singular\u001b[1;34m(err, flag)\u001b[0m\n\u001b[0;32m     88\u001b[0m \u001b[38;5;28;01mdef\u001b[39;00m \u001b[38;5;21m_raise_linalgerror_singular\u001b[39m(err, flag):\n\u001b[1;32m---> 89\u001b[0m     \u001b[38;5;28;01mraise\u001b[39;00m LinAlgError(\u001b[38;5;124m\"\u001b[39m\u001b[38;5;124mSingular matrix\u001b[39m\u001b[38;5;124m\"\u001b[39m)\n",
      "\u001b[1;31mLinAlgError\u001b[0m: Singular matrix"
     ]
    }
   ],
   "source": [
    "from numpy.linalg import inv\n",
    "m3i = inv(m3)"
   ]
  },
  {
   "cell_type": "code",
   "execution_count": 51,
   "id": "2d9ef225",
   "metadata": {},
   "outputs": [],
   "source": [
    "# m3 is not invertible since it is a singular matrix"
   ]
  },
  {
   "cell_type": "code",
   "execution_count": 52,
   "id": "be4bde04",
   "metadata": {},
   "outputs": [
    {
     "data": {
      "text/plain": [
       "0.0"
      ]
     },
     "execution_count": 52,
     "metadata": {},
     "output_type": "execute_result"
    }
   ],
   "source": [
    "np.linalg.det(m3)"
   ]
  },
  {
   "cell_type": "code",
   "execution_count": 53,
   "id": "f798a6f8",
   "metadata": {},
   "outputs": [
    {
     "data": {
      "text/plain": [
       "array([[ 1,  3,  5],\n",
       "       [ 4, 12,  8],\n",
       "       [ 2,  0,  7]])"
      ]
     },
     "execution_count": 53,
     "metadata": {},
     "output_type": "execute_result"
    }
   ],
   "source": [
    "v2 = np.array([(2,0,7)])\n",
    "m4 = np.append(m1, v2, axis = 0)\n",
    "m4"
   ]
  },
  {
   "cell_type": "code",
   "execution_count": 54,
   "id": "ae52c974",
   "metadata": {},
   "outputs": [
    {
     "data": {
      "text/plain": [
       "array([[-1.16666667,  0.29166667,  0.5       ],\n",
       "       [ 0.16666667,  0.04166667, -0.16666667],\n",
       "       [ 0.33333333, -0.08333333,  0.        ]])"
      ]
     },
     "execution_count": 54,
     "metadata": {},
     "output_type": "execute_result"
    }
   ],
   "source": [
    "m4i = inv(m4)\n",
    "m4i"
   ]
  },
  {
   "cell_type": "code",
   "execution_count": 55,
   "id": "493d1eba",
   "metadata": {},
   "outputs": [
    {
     "data": {
      "text/plain": [
       "-72.0"
      ]
     },
     "execution_count": 55,
     "metadata": {},
     "output_type": "execute_result"
    }
   ],
   "source": [
    "np.linalg.det(m4)"
   ]
  },
  {
   "cell_type": "code",
   "execution_count": 56,
   "id": "95d61c98",
   "metadata": {},
   "outputs": [],
   "source": [
    "# The determinant of m4 is not zero so it is not a singular matrix meaning that it can be inverted."
   ]
  },
  {
   "cell_type": "code",
   "execution_count": 57,
   "id": "ed5025d5",
   "metadata": {},
   "outputs": [
    {
     "data": {
      "text/plain": [
       "(array([-0.74625347, 13.70776234,  7.03849113]),\n",
       " array([[-0.95796008,  0.25760791,  0.01007287],\n",
       "        [ 0.14538858,  0.96319186, -0.85203586],\n",
       "        [ 0.24733507,  0.0768089 ,  0.5233865 ]]))"
      ]
     },
     "execution_count": 57,
     "metadata": {},
     "output_type": "execute_result"
    }
   ],
   "source": [
    "np.linalg.eig(m4)"
   ]
  },
  {
   "cell_type": "code",
   "execution_count": 58,
   "id": "86da87a9",
   "metadata": {},
   "outputs": [],
   "source": [
    "from numpy.random import seed\n",
    "from numpy.random import normal\n",
    "seed(155)\n",
    "x1 = np.random.normal(loc = 15, scale = 2, size = 40)\n",
    "x2 = np.random.normal(loc = 17, scale = 1.5, size = 40)"
   ]
  },
  {
   "cell_type": "code",
   "execution_count": 59,
   "id": "740a799b",
   "metadata": {},
   "outputs": [
    {
     "data": {
      "text/plain": [
       "array([16.24870132, 15.4516735 , 15.8323795 , 12.74452692, 14.75928155,\n",
       "       11.78024246, 16.5011245 , 10.05625202, 16.61257638, 16.16953378,\n",
       "       17.91393643, 14.85675736, 17.99407921, 13.63928186, 18.50441828,\n",
       "       13.43790139, 14.85612245, 14.47449605, 12.87771137, 15.841971  ,\n",
       "       13.15466929, 11.70727045, 15.86599547, 15.33659281, 15.00008821,\n",
       "       15.9465252 , 16.9571717 , 12.74354981, 13.05872522, 14.93433169,\n",
       "       13.57364948, 18.71022486, 13.70142995, 16.0189728 , 13.09073865,\n",
       "       15.4264635 , 14.69034134, 15.15031972, 14.71072992, 11.78339909])"
      ]
     },
     "execution_count": 59,
     "metadata": {},
     "output_type": "execute_result"
    }
   ],
   "source": [
    "x1"
   ]
  },
  {
   "cell_type": "code",
   "execution_count": 60,
   "id": "f88b4404",
   "metadata": {},
   "outputs": [
    {
     "data": {
      "text/plain": [
       "array([15.8534539 , 16.24326381, 17.10390516, 16.46017097, 17.11024761,\n",
       "       16.26250262, 19.25792777, 18.6784501 , 18.06256019, 14.72132204,\n",
       "       15.6012901 , 14.13211301, 16.52412488, 19.13566119, 15.07513291,\n",
       "       16.09500118, 17.93154259, 14.91495494, 16.89632933, 17.42079406,\n",
       "       18.10150728, 17.09486117, 17.73542397, 17.58752949, 13.75312653,\n",
       "       15.50240458, 20.6209742 , 15.73372685, 18.79715282, 16.09507257,\n",
       "       16.9185618 , 15.42501092, 15.37010389, 16.77177456, 18.14812076,\n",
       "       15.97527985, 16.32331439, 17.92610193, 16.82660575, 17.07380772])"
      ]
     },
     "execution_count": 60,
     "metadata": {},
     "output_type": "execute_result"
    }
   ],
   "source": [
    "x2"
   ]
  },
  {
   "cell_type": "code",
   "execution_count": 61,
   "id": "2bc19ec8",
   "metadata": {},
   "outputs": [
    {
     "data": {
      "image/png": "[encoded data removed]",
      "text/plain": [
       "<Figure size 640x480 with 1 Axes>"
      ]
     },
     "metadata": {},
     "output_type": "display_data"
    }
   ],
   "source": [
    "import matplotlib.pyplot as plt\n",
    "plt.hist(x1)\n",
    "plt.hist(x2)\n",
    "plt.show()"
   ]
  },
  {
   "cell_type": "code",
   "execution_count": 62,
   "id": "c69ccc7d",
   "metadata": {},
   "outputs": [],
   "source": [
    "x3 = x2 - x1"
   ]
  },
  {
   "cell_type": "code",
   "execution_count": 63,
   "id": "e3833a7f",
   "metadata": {},
   "outputs": [
    {
     "data": {
      "text/plain": [
       "array([-0.39524742,  0.79159031,  1.27152566,  3.71564404,  2.35096606,\n",
       "        4.48226017,  2.75680327,  8.62219809,  1.44998381, -1.44821174,\n",
       "       -2.31264633, -0.72464436, -1.46995433,  5.49637933, -3.42928537,\n",
       "        2.65709979,  3.07542014,  0.4404589 ,  4.01861796,  1.57882306,\n",
       "        4.94683799,  5.38759072,  1.86942849,  2.25093668, -1.24696168,\n",
       "       -0.44412062,  3.6638025 ,  2.99017703,  5.7384276 ,  1.16074087,\n",
       "        3.34491232, -3.28521394,  1.66867393,  0.75280176,  5.05738211,\n",
       "        0.54881634,  1.63297305,  2.77578221,  2.11587583,  5.29040863])"
      ]
     },
     "execution_count": 63,
     "metadata": {},
     "output_type": "execute_result"
    }
   ],
   "source": [
    "x3"
   ]
  },
  {
   "cell_type": "code",
   "execution_count": 64,
   "id": "ed127ba4",
   "metadata": {
    "scrolled": true
   },
   "outputs": [
    {
     "data": {
      "image/png": "[encoded data removed]",
      "text/plain": [
       "<Figure size 640x480 with 1 Axes>"
      ]
     },
     "metadata": {},
     "output_type": "display_data"
    }
   ],
   "source": [
    "plt.hist(x3)\n",
    "plt.show()"
   ]
  },
  {
   "cell_type": "code",
   "execution_count": 65,
   "id": "7fc064dc",
   "metadata": {},
   "outputs": [],
   "source": [
    "# The distribution of x3 is normal distribution"
   ]
  },
  {
   "cell_type": "code",
   "execution_count": 66,
   "id": "c5dc0785",
   "metadata": {},
   "outputs": [],
   "source": [
    "import statistics\n",
    "from scipy.stats import sem\n",
    "from statistics import mean\n",
    "from statistics import median\n",
    "from statistics import mode"
   ]
  },
  {
   "cell_type": "code",
   "execution_count": 82,
   "id": "7e3e616b",
   "metadata": {},
   "outputs": [
    {
     "name": "stdout",
     "output_type": "stream",
     "text": [
      "x1 Statistics:\n",
      "Mean: 14.802853912665578\n",
      "Median: 14.895544528517114\n",
      "x3 Statistics:\n",
      "Mean: 1.978676322071194\n",
      "Median: 1.992652158933761\n",
      "Mode: -0.39524741677759856\n"
     ]
    }
   ],
   "source": [
    "mean1 = np.mean(x1)\n",
    "med1 = np.median(x1)\n",
    "\n",
    "mean3 = np.mean(x3)\n",
    "med3 = np.median(x3)\n",
    "\n",
    "mode3 = statistics.mode(x3)\n",
    "\n",
    "print(\"x1 Statistics:\")\n",
    "print(\"Mean:\",(mean1))\n",
    "print(\"Median:\",(med1))\n",
    "print(\"x3 Statistics:\")\n",
    "print(\"Mean:\",(mean3))\n",
    "print(\"Median:\",(med3))\n",
    "print(\"Mode:\",(mode3))"
   ]
  },
  {
   "cell_type": "code",
   "execution_count": 68,
   "id": "ca30871b",
   "metadata": {},
   "outputs": [],
   "source": [
    "# There is no actual mode in x3 since every number appear only once. I think, under this situation, the function automatically pick the first value as the \"mode\". "
   ]
  },
  {
   "cell_type": "code",
   "execution_count": 69,
   "id": "d2fe5798",
   "metadata": {},
   "outputs": [
    {
     "data": {
      "text/plain": [
       "array([-0.,  1.,  1.,  4.,  2.,  4.,  3.,  9.,  1., -1., -2., -1., -1.,\n",
       "        5., -3.,  3.,  3.,  0.,  4.,  2.,  5.,  5.,  2.,  2., -1., -0.,\n",
       "        4.,  3.,  6.,  1.,  3., -3.,  2.,  1.,  5.,  1.,  2.,  3.,  2.,\n",
       "        5.])"
      ]
     },
     "execution_count": 69,
     "metadata": {},
     "output_type": "execute_result"
    }
   ],
   "source": [
    "x3r = np.round(x3)\n",
    "x3r"
   ]
  },
  {
   "cell_type": "code",
   "execution_count": 70,
   "id": "31f9e595",
   "metadata": {},
   "outputs": [
    {
     "data": {
      "text/plain": [
       "2.0"
      ]
     },
     "execution_count": 70,
     "metadata": {},
     "output_type": "execute_result"
    }
   ],
   "source": [
    "mode(x3r)"
   ]
  },
  {
   "cell_type": "code",
   "execution_count": 86,
   "id": "af05ca63",
   "metadata": {},
   "outputs": [
    {
     "name": "stdout",
     "output_type": "stream",
     "text": [
      "Statistics for x1:\n",
      "Sample Variance: 3.705907471583822\n",
      "Sample Standard Deviation: 1.9250733678444107\n",
      "Standard Error: 0.30825844433226685\n",
      "Statistics for x3:\n",
      "Sample Variance: 6.780441355578228\n",
      "Sample Standard Deviation: 2.6039280626734347\n",
      "Standard Error: 0.41696219331715434\n"
     ]
    }
   ],
   "source": [
    "var1 = np.var(x1)\n",
    "std1 = np.std(x1)\n",
    "er1 = sem(x1)\n",
    "\n",
    "var3 = np.var(x3)\n",
    "std3 = np.std(x3)\n",
    "er3 = sem(x3)\n",
    "\n",
    "print(\"Statistics for x1:\")\n",
    "print(\"Sample Variance:\", (var1))\n",
    "print(\"Sample Standard Deviation:\",(std1))\n",
    "print(\"Standard Error:\",(er1))\n",
    "print(\"Statistics for x3:\")\n",
    "print(\"Sample Variance:\", (var3))\n",
    "print(\"Sample Standard Deviation:\",(std3))\n",
    "print(\"Standard Error:\",(er3))"
   ]
  },
  {
   "cell_type": "code",
   "execution_count": 90,
   "id": "bd812a5b",
   "metadata": {},
   "outputs": [
    {
     "name": "stdout",
     "output_type": "stream",
     "text": [
      "8.653972842075435\n",
      "12.051483453898415\n"
     ]
    }
   ],
   "source": [
    "range1 = max(x1) - min(x1)\n",
    "range3 = max(x3) - min(x3)\n",
    "\n",
    "print(range1)\n",
    "print(range3)"
   ]
  },
  {
   "cell_type": "code",
   "execution_count": 96,
   "id": "094ebad2",
   "metadata": {},
   "outputs": [],
   "source": [
    "x1q1 = np.percentile(x1,[25])\n",
    "x1q2 = np.percentile(x1,[50])\n",
    "x1q3 = np.percentile(x1,[75])\n",
    "\n",
    "x3q1 = np.percentile(x3,[25])\n",
    "x3q2 = np.percentile(x3,[50])\n",
    "x3q3 = np.percentile(x3,[75])"
   ]
  },
  {
   "cell_type": "code",
   "execution_count": 97,
   "id": "898be0eb",
   "metadata": {},
   "outputs": [],
   "source": [
    "IQR1 = x1q3 - x1q1\n",
    "IQR3 = x3q3 - x3q1"
   ]
  },
  {
   "cell_type": "code",
   "execution_count": 98,
   "id": "cd1e004d",
   "metadata": {},
   "outputs": [
    {
     "name": "stdout",
     "output_type": "stream",
     "text": [
      "x1:\n",
      "[13.36709337]\n",
      "[14.89554453]\n",
      "[15.9646371]\n",
      "[2.59754374]\n"
     ]
    }
   ],
   "source": [
    "print(\"x1:\")\n",
    "print(x1q1)\n",
    "print(x1q2)\n",
    "print(x1q3)\n",
    "print(IQR1)"
   ]
  },
  {
   "cell_type": "code",
   "execution_count": 101,
   "id": "ac77183e",
   "metadata": {},
   "outputs": [
    {
     "name": "stdout",
     "output_type": "stream",
     "text": [
      "x3:\n",
      "[0.52172698]\n",
      "[1.99265216]\n",
      "[3.67676289]\n",
      "[3.1550359]\n"
     ]
    }
   ],
   "source": [
    "print(\"x3:\")\n",
    "print(x3q1)\n",
    "print(x3q2)\n",
    "print(x3q3)\n",
    "print(IQR3)"
   ]
  },
  {
   "cell_type": "code",
   "execution_count": 102,
   "id": "3365059c",
   "metadata": {},
   "outputs": [],
   "source": [
    "# x3 has a greater spread in the distribution since it has high IQR and variance."
   ]
  }
 ],
 "metadata": {
  "kernelspec": {
   "display_name": "Python 3 (ipykernel)",
   "language": "python",
   "name": "python3"
  },
  "language_info": {
   "codemirror_mode": {
    "name": "ipython",
    "version": 3
   },
   "file_extension": ".py",
   "mimetype": "text/x-python",
   "name": "python",
   "nbconvert_exporter": "python",
   "pygments_lexer": "ipython3",
   "version": "3.11.4"
  }
 },
 "nbformat": 4,
 "nbformat_minor": 5
}
