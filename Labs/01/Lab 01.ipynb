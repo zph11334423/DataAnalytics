{
 "cells": [
  {
   "cell_type": "code",
   "execution_count": 11,
   "id": "9eee9fc1",
   "metadata": {},
   "outputs": [
    {
     "name": "stdout",
     "output_type": "stream",
     "text": [
      "1\n",
      "2\n",
      "Fizz\n",
      "4\n",
      "Buzz\n",
      "Fizz\n",
      "7\n",
      "8\n",
      "Fizz\n",
      "Buzz\n",
      "11\n",
      "Fizz\n",
      "13\n",
      "14\n",
      "FizzBuzz\n",
      "16\n",
      "17\n",
      "Fizz\n",
      "19\n",
      "Buzz\n",
      "Fizz\n",
      "22\n",
      "23\n",
      "Fizz\n",
      "Buzz\n",
      "26\n",
      "Fizz\n",
      "28\n",
      "29\n",
      "FizzBuzz\n"
     ]
    }
   ],
   "source": [
    "for integers in range(1, 31):\n",
    "    if integers % 3 == 0 and integers % 5 == 0:\n",
    "        print(\"FizzBuzz\")\n",
    "    elif integers % 3 == 0:\n",
    "        print(\"Fizz\")\n",
    "    elif integers % 5 == 0:\n",
    "        print(\"Buzz\")\n",
    "    else:\n",
    "        print(integers)"
   ]
  },
  {
   "cell_type": "code",
   "execution_count": null,
   "id": "8c4d64b5",
   "metadata": {},
   "outputs": [],
   "source": []
  }
 ],
 "metadata": {
  "kernelspec": {
   "display_name": "Python 3 (ipykernel)",
   "language": "python",
   "name": "python3"
  },
  "language_info": {
   "codemirror_mode": {
    "name": "ipython",
    "version": 3
   },
   "file_extension": ".py",
   "mimetype": "text/x-python",
   "name": "python",
   "nbconvert_exporter": "python",
   "pygments_lexer": "ipython3",
   "version": "3.11.4"
  }
 },
 "nbformat": 4,
 "nbformat_minor": 5
}
