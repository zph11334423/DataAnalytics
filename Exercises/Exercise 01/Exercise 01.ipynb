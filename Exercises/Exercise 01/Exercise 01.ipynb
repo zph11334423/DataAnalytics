{
 "cells": [
  {
   "cell_type": "code",
   "execution_count": 10,
   "id": "9a863d27",
   "metadata": {},
   "outputs": [],
   "source": [
    "# Function 1"
   ]
  },
  {
   "cell_type": "code",
   "execution_count": 1,
   "id": "1d2d76e9",
   "metadata": {},
   "outputs": [],
   "source": [
    "from datetime import datetime, timedelta"
   ]
  },
  {
   "cell_type": "code",
   "execution_count": 2,
   "id": "d36b20f6",
   "metadata": {},
   "outputs": [],
   "source": [
    "def DateOffset(date, n):\n",
    "     \n",
    "     date_input = datetime.strptime(date, \"%Y-%m-%d\")\n",
    "     \n",
    "     offset = timedelta(days=n)\n",
    "     \n",
    "     new = date_input + offset\n",
    "     \n",
    "     new_str = new.strftime(\"%Y-%m-%d\")\n",
    "     \n",
    "     return new"
   ]
  },
  {
   "cell_type": "code",
   "execution_count": 4,
   "id": "f8a2769c",
   "metadata": {},
   "outputs": [
    {
     "name": "stdout",
     "output_type": "stream",
     "text": [
      "2023-01-01 00:00:00\n"
     ]
    }
   ],
   "source": [
    "print(DateOffset('2022-12-31',1))"
   ]
  },
  {
   "cell_type": "code",
   "execution_count": 8,
   "id": "99e77e7d",
   "metadata": {},
   "outputs": [
    {
     "name": "stdout",
     "output_type": "stream",
     "text": [
      "2022-08-31 00:00:00\n"
     ]
    }
   ],
   "source": [
    "print(DateOffset('2022-09-01',-1))"
   ]
  },
  {
   "cell_type": "code",
   "execution_count": 11,
   "id": "ab8cabc7",
   "metadata": {},
   "outputs": [],
   "source": [
    "# Function 2"
   ]
  },
  {
   "cell_type": "code",
   "execution_count": 13,
   "id": "ef8a396c",
   "metadata": {},
   "outputs": [],
   "source": [
    "def Factorial(n):\n",
    "    \n",
    "    if n == 0:\n",
    "        return 1\n",
    "    if n < 0:\n",
    "        return \"undefined\"\n",
    "    else:\n",
    "        return n * Factorial(n - 1)"
   ]
  },
  {
   "cell_type": "code",
   "execution_count": 14,
   "id": "c5ad43aa",
   "metadata": {},
   "outputs": [
    {
     "name": "stdout",
     "output_type": "stream",
     "text": [
      "undefined\n"
     ]
    }
   ],
   "source": [
    "print(Factorial(-1))"
   ]
  },
  {
   "cell_type": "code",
   "execution_count": 15,
   "id": "10a11553",
   "metadata": {},
   "outputs": [
    {
     "name": "stdout",
     "output_type": "stream",
     "text": [
      "6\n"
     ]
    }
   ],
   "source": [
    "print(Factorial(3))"
   ]
  },
  {
   "cell_type": "code",
   "execution_count": 16,
   "id": "24911b70",
   "metadata": {},
   "outputs": [],
   "source": [
    "# Function 3"
   ]
  },
  {
   "cell_type": "code",
   "execution_count": 17,
   "id": "3e30ce86",
   "metadata": {},
   "outputs": [],
   "source": [
    " def LongestString(strings):\n",
    "        \n",
    "        length = max(len(i) for i in strings)\n",
    "        \n",
    "        longest = [i for i in strings if len(i) == length]\n",
    "        \n",
    "        return longest\n",
    "        "
   ]
  },
  {
   "cell_type": "code",
   "execution_count": 20,
   "id": "bd5b234a",
   "metadata": {},
   "outputs": [
    {
     "data": {
      "text/plain": [
       "['aba', 'vcd', 'aba']"
      ]
     },
     "execution_count": 20,
     "metadata": {},
     "output_type": "execute_result"
    }
   ],
   "source": [
    "LongestString([\"aba\", \"aa\", \"ad\", \"vcd\", \"aba\"])"
   ]
  },
  {
   "cell_type": "code",
   "execution_count": 21,
   "id": "bcaeab9b",
   "metadata": {},
   "outputs": [],
   "source": [
    "# Function 4"
   ]
  },
  {
   "cell_type": "code",
   "execution_count": 22,
   "id": "477b9293",
   "metadata": {},
   "outputs": [],
   "source": [
    "def IsPalindrome(word):\n",
    "    return word == word[::-1]"
   ]
  },
  {
   "cell_type": "code",
   "execution_count": 25,
   "id": "a3f8a94c",
   "metadata": {},
   "outputs": [
    {
     "name": "stdout",
     "output_type": "stream",
     "text": [
      "True\n"
     ]
    }
   ],
   "source": [
    "print(IsPalindrome('racecar'))"
   ]
  },
  {
   "cell_type": "code",
   "execution_count": 26,
   "id": "9fbd2125",
   "metadata": {},
   "outputs": [
    {
     "name": "stdout",
     "output_type": "stream",
     "text": [
      "False\n"
     ]
    }
   ],
   "source": [
    "print(IsPalindrome('racecars'))"
   ]
  },
  {
   "cell_type": "code",
   "execution_count": 27,
   "id": "83725db9",
   "metadata": {},
   "outputs": [],
   "source": [
    "# Function 5"
   ]
  },
  {
   "cell_type": "code",
   "execution_count": 5,
   "id": "865844f4",
   "metadata": {},
   "outputs": [],
   "source": [
    "def MakeChange(cent):\n",
    "    values = [50, 25, 10, 5, 1]\n",
    "    coins = ['$0.50', '$0.25', '$0.10', '$0.05', '$0.01']\n",
    "    \n",
    "    counts = {}\n",
    "    \n",
    "    for i in range(len(values)):\n",
    "        coin_count = cent // values[i]\n",
    "        cent -= coin_count * values[i]\n",
    "        if coin_count > 0:\n",
    "            counts[coins[i]] = coin_count\n",
    "        else:\n",
    "            counts[coins[i]] = 0 \n",
    "      \n",
    "    return counts"
   ]
  },
  {
   "cell_type": "code",
   "execution_count": 6,
   "id": "80addf34",
   "metadata": {},
   "outputs": [
    {
     "name": "stdout",
     "output_type": "stream",
     "text": [
      "{'$0.50': 0, '$0.25': 1, '$0.10': 0, '$0.05': 0, '$0.01': 1}\n"
     ]
    }
   ],
   "source": [
    "print(MakeChange(26))"
   ]
  }
 ],
 "metadata": {
  "kernelspec": {
   "display_name": "Python 3 (ipykernel)",
   "language": "python",
   "name": "python3"
  },
  "language_info": {
   "codemirror_mode": {
    "name": "ipython",
    "version": 3
   },
   "file_extension": ".py",
   "mimetype": "text/x-python",
   "name": "python",
   "nbconvert_exporter": "python",
   "pygments_lexer": "ipython3",
   "version": "3.11.4"
  }
 },
 "nbformat": 4,
 "nbformat_minor": 5
}
